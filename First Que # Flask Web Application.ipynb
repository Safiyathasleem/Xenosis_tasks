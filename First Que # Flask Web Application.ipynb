{
 "cells": [
  {
   "cell_type": "code",
   "execution_count": 1,
   "id": "31fff199",
   "metadata": {},
   "outputs": [
    {
     "name": "stdout",
     "output_type": "stream",
     "text": [
      "Requirement already satisfied: Flask in c:\\users\\matee\\anaconda3\\lib\\site-packages (2.2.5)\n",
      "Requirement already satisfied: Flask-SQLAlchemy in c:\\users\\matee\\anaconda3\\lib\\site-packages (2.5.1)\n",
      "Requirement already satisfied: Jinja2>=3.0 in c:\\users\\matee\\anaconda3\\lib\\site-packages (from Flask) (3.1.4)\n",
      "Requirement already satisfied: Werkzeug>=2.2.2 in c:\\users\\matee\\anaconda3\\lib\\site-packages (from Flask) (3.0.3)\n",
      "Requirement already satisfied: click>=8.0 in c:\\users\\matee\\anaconda3\\lib\\site-packages (from Flask) (8.1.7)\n",
      "Requirement already satisfied: importlib-metadata>=3.6.0 in c:\\users\\matee\\anaconda3\\lib\\site-packages (from Flask) (4.11.3)\n",
      "Requirement already satisfied: itsdangerous>=2.0 in c:\\users\\matee\\anaconda3\\lib\\site-packages (from Flask) (2.2.0)\n",
      "Requirement already satisfied: SQLAlchemy>=0.8.0 in c:\\users\\matee\\anaconda3\\lib\\site-packages (from Flask-SQLAlchemy) (1.4.47)\n",
      "Requirement already satisfied: colorama in c:\\users\\matee\\anaconda3\\lib\\site-packages (from click>=8.0->Flask) (0.4.5)\n",
      "Requirement already satisfied: zipp>=0.5 in c:\\users\\matee\\anaconda3\\lib\\site-packages (from importlib-metadata>=3.6.0->Flask) (3.8.0)\n",
      "Requirement already satisfied: MarkupSafe>=2.0 in c:\\users\\matee\\anaconda3\\lib\\site-packages (from Jinja2>=3.0->Flask) (2.1.5)\n",
      "Requirement already satisfied: greenlet!=0.4.17 in c:\\users\\matee\\anaconda3\\lib\\site-packages (from SQLAlchemy>=0.8.0->Flask-SQLAlchemy) (1.1.1)\n"
     ]
    }
   ],
   "source": [
    "!pip install Flask Flask-SQLAlchemy\n",
    "\n"
   ]
  },
  {
   "cell_type": "code",
   "execution_count": 2,
   "id": "c436c943",
   "metadata": {},
   "outputs": [
    {
     "name": "stdout",
     "output_type": "stream",
     "text": [
      " * Serving Flask app '__main__'\n",
      " * Debug mode: on\n"
     ]
    },
    {
     "name": "stderr",
     "output_type": "stream",
     "text": [
      "WARNING: This is a development server. Do not use it in a production deployment. Use a production WSGI server instead.\n",
      " * Running on http://127.0.0.1:5000\n",
      "Press CTRL+C to quit\n",
      "127.0.0.1 - - [11/Aug/2024 20:06:25] \"GET / HTTP/1.1\" 200 -\n",
      "127.0.0.1 - - [11/Aug/2024 20:06:29] \"GET /add_user HTTP/1.1\" 200 -\n",
      "127.0.0.1 - - [11/Aug/2024 20:06:40] \"POST /add_user HTTP/1.1\" 302 -\n",
      "127.0.0.1 - - [11/Aug/2024 20:06:40] \"GET / HTTP/1.1\" 200 -\n"
     ]
    }
   ],
   "source": [
    "# Flask app setup in Jupyter Notebook\n",
    "\n",
    "from flask import Flask, render_template_string, request, redirect, url_for\n",
    "from flask_sqlalchemy import SQLAlchemy\n",
    "import threading\n",
    "\n",
    "# Initialize Flask app and SQLAlchemy\n",
    "app = Flask(__name__)\n",
    "app.config['SQLALCHEMY_DATABASE_URI'] = 'sqlite:///site.db'\n",
    "app.config['SQLALCHEMY_TRACK_MODIFICATIONS'] = False\n",
    "db = SQLAlchemy(app)\n",
    "\n",
    "# Define a model\n",
    "class User(db.Model):\n",
    "    id = db.Column(db.Integer, primary_key=True)\n",
    "    name = db.Column(db.String(100), nullable=False)\n",
    "    email = db.Column(db.String(120), unique=True, nullable=False)\n",
    "\n",
    "    def __repr__(self):\n",
    "        return f'<User {self.name}>'\n",
    "\n",
    "# Create database and tables\n",
    "db.create_all()\n",
    "\n",
    "# Define routes\n",
    "@app.route('/')\n",
    "def index():\n",
    "    users = User.query.all()\n",
    "    return render_template_string('''\n",
    "    <!DOCTYPE html>\n",
    "    <html lang=\"en\">\n",
    "    <head>\n",
    "        <meta charset=\"UTF-8\">\n",
    "        <meta name=\"viewport\" content=\"width=device-width, initial-scale=1.0\">\n",
    "        <title>User List</title>\n",
    "    </head>\n",
    "    <body>\n",
    "        <h1>User List</h1>\n",
    "        <a href=\"{{ url_for('add_user') }}\">Add User</a>\n",
    "        <ul>\n",
    "            {% for user in users %}\n",
    "                <li>{{ user.name }} ({{ user.email }})</li>\n",
    "            {% endfor %}\n",
    "        </ul>\n",
    "    </body>\n",
    "    </html>\n",
    "    ''', users=users)\n",
    "\n",
    "@app.route('/add_user', methods=['GET', 'POST'])\n",
    "def add_user():\n",
    "    if request.method == 'POST':\n",
    "        name = request.form.get('name')\n",
    "        email = request.form.get('email')\n",
    "        user = User(name=name, email=email)\n",
    "        db.session.add(user)\n",
    "        db.session.commit()\n",
    "        return redirect(url_for('index'))\n",
    "    return render_template_string('''\n",
    "    <!DOCTYPE html>\n",
    "    <html lang=\"en\">\n",
    "    <head>\n",
    "        <meta charset=\"UTF-8\">\n",
    "        <meta name=\"viewport\" content=\"width=device-width, initial-scale=1.0\">\n",
    "        <title>Add User</title>\n",
    "    </head>\n",
    "    <body>\n",
    "        <h1>Add User</h1>\n",
    "        <form action=\"{{ url_for('add_user') }}\" method=\"POST\">\n",
    "            <label for=\"name\">Name:</label>\n",
    "            <input type=\"text\" id=\"name\" name=\"name\" required>\n",
    "            <label for=\"email\">Email:</label>\n",
    "            <input type=\"email\" id=\"email\" name=\"email\" required>\n",
    "            <button type=\"submit\">Add</button>\n",
    "        </form>\n",
    "        <a href=\"{{ url_for('index') }}\">Back to User List</a>\n",
    "    </body>\n",
    "    </html>\n",
    "    ''')\n",
    "\n",
    "# Run Flask app in a separate thread\n",
    "def run_app():\n",
    "    app.run(port=5000, debug=True, use_reloader=False)\n",
    "\n",
    "threading.Thread(target=run_app).start()\n"
   ]
  },
  {
   "cell_type": "code",
   "execution_count": null,
   "id": "e6d8ea06",
   "metadata": {},
   "outputs": [],
   "source": []
  }
 ],
 "metadata": {
  "kernelspec": {
   "display_name": "Python 3 (ipykernel)",
   "language": "python",
   "name": "python3"
  },
  "language_info": {
   "codemirror_mode": {
    "name": "ipython",
    "version": 3
   },
   "file_extension": ".py",
   "mimetype": "text/x-python",
   "name": "python",
   "nbconvert_exporter": "python",
   "pygments_lexer": "ipython3",
   "version": "3.9.13"
  }
 },
 "nbformat": 4,
 "nbformat_minor": 5
}
