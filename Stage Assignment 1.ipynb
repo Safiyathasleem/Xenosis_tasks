{
 "cells": [
  {
   "cell_type": "markdown",
   "id": "6481b0fe",
   "metadata": {},
   "source": [
    "Decimal to Hexadecimal conversion"
   ]
  },
  {
   "cell_type": "code",
   "execution_count": null,
   "id": "f1836adb",
   "metadata": {},
   "outputs": [
    {
     "name": "stdout",
     "output_type": "stream",
     "text": [
      "The hexadecimal form of 2545 is 9F1\n"
     ]
    }
   ],
   "source": [
    "conversion_table = {0: '0', 1: '1', 2: '2', 3: '3', 4: '4', \n",
    "                    5: '5', 6: '6', 7: '7', \n",
    "                    8: '8', 9: '9', 10: 'A', 11: 'B', 12: 'C', \n",
    "                    13: 'D', 14: 'E', 15: 'F'} \n",
    "def decimalToHexadecimal(decimal): \n",
    "    hexadecimal = '' \n",
    "    while(decimal > 0):\n",
    "        remainder = decimal % 16\n",
    "        hexadecimal = conversion_table[remainder] + hexadecimal \n",
    "        decimal = decimal // 16\n",
    "\n",
    "    return hexadecimal \n",
    "\n",
    "\n",
    "decimal_number = 2545\n",
    "print(\"The hexadecimal form of\", decimal_number, \n",
    "   \"is\", decimalToHexadecimal(decimal_number)) "
   ]
  },
  {
   "cell_type": "code",
   "execution_count": 8,
   "id": "6007674a",
   "metadata": {},
   "outputs": [
    {
     "name": "stdout",
     "output_type": "stream",
     "text": [
      "1 2 3 4 5 6 \n",
      "1 2 3 4 5 \n",
      "1 2 3 4 \n",
      "1 2 3 \n",
      "1 2 \n",
      "1 \n"
     ]
    }
   ],
   "source": [
    "def print_pattern():\n",
    "    for i in range(6,0,-1):\n",
    "        for j in range(1,i+ 1):\n",
    "            print(j,end=\" \")\n",
    "        print()\n",
    "print_pattern()"
   ]
  },
  {
   "cell_type": "code",
   "execution_count": 17,
   "id": "b8ed7a56",
   "metadata": {},
   "outputs": [
    {
     "name": "stdout",
     "output_type": "stream",
     "text": [
      "Enter number of row: 8\n",
      "       *\n",
      "      * *\n",
      "     *   *\n",
      "    *     *\n",
      "   *       *\n",
      "  *         *\n",
      " *           *\n",
      "*             *\n",
      " *           *\n",
      "  *         *\n",
      "   *       *\n",
      "    *     *\n",
      "     *   *\n",
      "      * *\n",
      "       *\n"
     ]
    }
   ],
   "source": [
    "\n",
    "row = int(input('Enter number of row: '))\n",
    "for i in range(1, row+1):\n",
    "    for j in range(1,row-i+1):\n",
    "        print(\" \", end=\"\")\n",
    "    for j in range(1, 2*i):\n",
    "        if j==1 or j==2*i-1:\n",
    "            print(\"*\", end=\"\")\n",
    "        else:\n",
    "            print(\" \", end=\"\")\n",
    "    print()\n",
    "for i in range(row-1,0, -1):\n",
    "    for j in range(1,row-i+1):\n",
    "        print(\" \", end=\"\")\n",
    "    for j in range(1, 2*i):\n",
    "        if j==1 or j==2*i-1:\n",
    "            print(\"*\", end=\"\")\n",
    "        else:\n",
    "            print(\" \", end=\"\")\n",
    "    print()"
   ]
  },
  {
   "cell_type": "code",
   "execution_count": 18,
   "id": "a94ce737",
   "metadata": {},
   "outputs": [
    {
     "name": "stdout",
     "output_type": "stream",
     "text": [
      "Name: Safiya\n",
      "Age: 21\n"
     ]
    }
   ],
   "source": [
    "class Person:\n",
    "    def __init__(self, name, age):\n",
    "        self.name = name\n",
    "        self.age = age\n",
    "    \n",
    "    def displayDetails(self):\n",
    "        print(f\"Name: {self.name}\")\n",
    "        print(f\"Age: {self.age}\")\n",
    "if __name__ == \"__main__\":\n",
    "    person = Person(\"Safiya\", 21)\n",
    "    person.displayDetails()"
   ]
  },
  {
   "cell_type": "code",
   "execution_count": 22,
   "id": "48e83753",
   "metadata": {},
   "outputs": [
    {
     "name": "stdout",
     "output_type": "stream",
     "text": [
      "Please enter a number: A\n",
      "Error: Invalid input. Please enter a valid number.\n",
      "Execution of the try-except-finally block is complete.\n"
     ]
    }
   ],
   "source": [
    "def main():\n",
    "    try:\n",
    "        user_input = input(\"Please enter a number: \")\n",
    "        number = float(user_input)\n",
    "        result = 10 / number\n",
    "        print(f\"Result of dividing 10 by {number} is {result}\")\n",
    "    \n",
    "    except ZeroDivisionError:\n",
    "        print(\"Error: Division by zero is not allowed.\")\n",
    "    except ValueError:\n",
    "        print(\"Error: Invalid input. Please enter a valid number.\")\n",
    "    finally:\n",
    "        print(\"Execution of the try-except-finally block is complete.\")\n",
    "\n",
    "if __name__ == \"__main__\":\n",
    "    main()"
   ]
  },
  {
   "cell_type": "code",
   "execution_count": null,
   "id": "b622c43c",
   "metadata": {},
   "outputs": [],
   "source": []
  }
 ],
 "metadata": {
  "kernelspec": {
   "display_name": "Python 3 (ipykernel)",
   "language": "python",
   "name": "python3"
  },
  "language_info": {
   "codemirror_mode": {
    "name": "ipython",
    "version": 3
   },
   "file_extension": ".py",
   "mimetype": "text/x-python",
   "name": "python",
   "nbconvert_exporter": "python",
   "pygments_lexer": "ipython3",
   "version": "3.9.13"
  }
 },
 "nbformat": 4,
 "nbformat_minor": 5
}
